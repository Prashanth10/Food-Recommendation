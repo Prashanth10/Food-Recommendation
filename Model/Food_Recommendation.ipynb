{
 "cells": [
  {
   "cell_type": "code",
   "execution_count": 1,
   "metadata": {},
   "outputs": [],
   "source": [
    "import pandas as pd\n",
    "import matplotlib.pyplot as plt\n",
    "import numpy as np\n",
    "import seaborn as sns"
   ]
  },
  {
   "cell_type": "code",
   "execution_count": 2,
   "metadata": {},
   "outputs": [
    {
     "data": {
      "text/html": [
       "<div>\n",
       "<style scoped>\n",
       "    .dataframe tbody tr th:only-of-type {\n",
       "        vertical-align: middle;\n",
       "    }\n",
       "\n",
       "    .dataframe tbody tr th {\n",
       "        vertical-align: top;\n",
       "    }\n",
       "\n",
       "    .dataframe thead th {\n",
       "        text-align: right;\n",
       "    }\n",
       "</style>\n",
       "<table border=\"1\" class=\"dataframe\">\n",
       "  <thead>\n",
       "    <tr style=\"text-align: right;\">\n",
       "      <th></th>\n",
       "      <th>Food_ID</th>\n",
       "      <th>Name</th>\n",
       "      <th>C_Type</th>\n",
       "      <th>Veg_Non</th>\n",
       "      <th>Describe</th>\n",
       "    </tr>\n",
       "  </thead>\n",
       "  <tbody>\n",
       "    <tr>\n",
       "      <th>0</th>\n",
       "      <td>1</td>\n",
       "      <td>summer squash salad</td>\n",
       "      <td>Healthy Food</td>\n",
       "      <td>veg</td>\n",
       "      <td>white balsamic vinegar, lemon juice, lemon rin...</td>\n",
       "    </tr>\n",
       "    <tr>\n",
       "      <th>1</th>\n",
       "      <td>2</td>\n",
       "      <td>chicken minced salad</td>\n",
       "      <td>Healthy Food</td>\n",
       "      <td>non-veg</td>\n",
       "      <td>olive oil, chicken mince, garlic (minced), oni...</td>\n",
       "    </tr>\n",
       "    <tr>\n",
       "      <th>2</th>\n",
       "      <td>3</td>\n",
       "      <td>sweet chilli almonds</td>\n",
       "      <td>Snack</td>\n",
       "      <td>veg</td>\n",
       "      <td>almonds whole, egg white, curry leaves, salt, ...</td>\n",
       "    </tr>\n",
       "    <tr>\n",
       "      <th>3</th>\n",
       "      <td>4</td>\n",
       "      <td>tricolour salad</td>\n",
       "      <td>Healthy Food</td>\n",
       "      <td>veg</td>\n",
       "      <td>vinegar, honey/sugar, soy sauce, salt, garlic ...</td>\n",
       "    </tr>\n",
       "    <tr>\n",
       "      <th>4</th>\n",
       "      <td>5</td>\n",
       "      <td>christmas cake</td>\n",
       "      <td>Dessert</td>\n",
       "      <td>veg</td>\n",
       "      <td>christmas dry fruits (pre-soaked), orange zest...</td>\n",
       "    </tr>\n",
       "  </tbody>\n",
       "</table>\n",
       "</div>"
      ],
      "text/plain": [
       "   Food_ID                  Name        C_Type  Veg_Non  \\\n",
       "0        1   summer squash salad  Healthy Food      veg   \n",
       "1        2  chicken minced salad  Healthy Food  non-veg   \n",
       "2        3  sweet chilli almonds         Snack      veg   \n",
       "3        4       tricolour salad  Healthy Food      veg   \n",
       "4        5        christmas cake       Dessert      veg   \n",
       "\n",
       "                                            Describe  \n",
       "0  white balsamic vinegar, lemon juice, lemon rin...  \n",
       "1  olive oil, chicken mince, garlic (minced), oni...  \n",
       "2  almonds whole, egg white, curry leaves, salt, ...  \n",
       "3  vinegar, honey/sugar, soy sauce, salt, garlic ...  \n",
       "4  christmas dry fruits (pre-soaked), orange zest...  "
      ]
     },
     "execution_count": 2,
     "metadata": {},
     "output_type": "execute_result"
    }
   ],
   "source": [
    "food = pd.read_csv(\"food.csv\")\n",
    "food.head()"
   ]
  },
  {
   "cell_type": "code",
   "execution_count": 3,
   "metadata": {
    "scrolled": true
   },
   "outputs": [
    {
     "data": {
      "text/html": [
       "<div>\n",
       "<style scoped>\n",
       "    .dataframe tbody tr th:only-of-type {\n",
       "        vertical-align: middle;\n",
       "    }\n",
       "\n",
       "    .dataframe tbody tr th {\n",
       "        vertical-align: top;\n",
       "    }\n",
       "\n",
       "    .dataframe thead th {\n",
       "        text-align: right;\n",
       "    }\n",
       "</style>\n",
       "<table border=\"1\" class=\"dataframe\">\n",
       "  <thead>\n",
       "    <tr style=\"text-align: right;\">\n",
       "      <th></th>\n",
       "      <th>User_ID</th>\n",
       "      <th>Food_ID</th>\n",
       "      <th>Rating</th>\n",
       "    </tr>\n",
       "  </thead>\n",
       "  <tbody>\n",
       "    <tr>\n",
       "      <th>0</th>\n",
       "      <td>1.0</td>\n",
       "      <td>88.0</td>\n",
       "      <td>4.0</td>\n",
       "    </tr>\n",
       "    <tr>\n",
       "      <th>1</th>\n",
       "      <td>1.0</td>\n",
       "      <td>46.0</td>\n",
       "      <td>3.0</td>\n",
       "    </tr>\n",
       "    <tr>\n",
       "      <th>2</th>\n",
       "      <td>1.0</td>\n",
       "      <td>24.0</td>\n",
       "      <td>5.0</td>\n",
       "    </tr>\n",
       "    <tr>\n",
       "      <th>3</th>\n",
       "      <td>1.0</td>\n",
       "      <td>25.0</td>\n",
       "      <td>4.0</td>\n",
       "    </tr>\n",
       "    <tr>\n",
       "      <th>4</th>\n",
       "      <td>2.0</td>\n",
       "      <td>49.0</td>\n",
       "      <td>1.0</td>\n",
       "    </tr>\n",
       "  </tbody>\n",
       "</table>\n",
       "</div>"
      ],
      "text/plain": [
       "   User_ID  Food_ID  Rating\n",
       "0      1.0     88.0     4.0\n",
       "1      1.0     46.0     3.0\n",
       "2      1.0     24.0     5.0\n",
       "3      1.0     25.0     4.0\n",
       "4      2.0     49.0     1.0"
      ]
     },
     "execution_count": 3,
     "metadata": {},
     "output_type": "execute_result"
    }
   ],
   "source": [
    "ratings = pd.read_csv(\"ratings.csv\")\n",
    "ratings.head()"
   ]
  },
  {
   "cell_type": "code",
   "execution_count": 4,
   "metadata": {
    "scrolled": true
   },
   "outputs": [
    {
     "name": "stdout",
     "output_type": "stream",
     "text": [
      "<class 'pandas.core.frame.DataFrame'>\n",
      "RangeIndex: 309 entries, 0 to 308\n",
      "Data columns (total 5 columns):\n",
      " #   Column    Non-Null Count  Dtype \n",
      "---  ------    --------------  ----- \n",
      " 0   Food_ID   309 non-null    int64 \n",
      " 1   Name      309 non-null    object\n",
      " 2   C_Type    309 non-null    object\n",
      " 3   Veg_Non   309 non-null    object\n",
      " 4   Describe  309 non-null    object\n",
      "dtypes: int64(1), object(4)\n",
      "memory usage: 12.2+ KB\n"
     ]
    }
   ],
   "source": [
    "food.info()"
   ]
  },
  {
   "cell_type": "code",
   "execution_count": 5,
   "metadata": {},
   "outputs": [
    {
     "data": {
      "text/plain": [
       "309"
      ]
     },
     "execution_count": 5,
     "metadata": {},
     "output_type": "execute_result"
    }
   ],
   "source": [
    "food.Food_ID.count()"
   ]
  },
  {
   "cell_type": "code",
   "execution_count": 6,
   "metadata": {},
   "outputs": [
    {
     "data": {
      "text/plain": [
       "veg        195\n",
       "non-veg    114\n",
       "Name: Veg_Non, dtype: int64"
      ]
     },
     "execution_count": 6,
     "metadata": {},
     "output_type": "execute_result"
    }
   ],
   "source": [
    "food.Veg_Non.value_counts()"
   ]
  },
  {
   "cell_type": "code",
   "execution_count": 7,
   "metadata": {},
   "outputs": [
    {
     "data": {
      "image/png": "[encoded data removed]",
      "text/plain": [
       "<Figure size 432x288 with 1 Axes>"
      ]
     },
     "metadata": {},
     "output_type": "display_data"
    }
   ],
   "source": [
    "plt.rc(\"font\", size=15)\n",
    "food.C_Type.value_counts(sort=True).plot(kind='pie')\n",
    "plt.title('Food Cuisine Distribution\\n')\n",
    "frame1 = plt.gca()\n",
    "frame1.axes.get_xaxis().set_visible(False)\n",
    "frame1.axes.get_yaxis().set_visible(False)\n",
    "plt.show()"
   ]
  },
  {
   "cell_type": "code",
   "execution_count": 8,
   "metadata": {},
   "outputs": [
    {
     "data": {
      "text/plain": [
       "array([ 4.,  3.,  5.,  1.,  8.,  9., 10.,  6.,  2.,  7., nan])"
      ]
     },
     "execution_count": 8,
     "metadata": {},
     "output_type": "execute_result"
    }
   ],
   "source": [
    "ratings.Rating.unique()"
   ]
  },
  {
   "cell_type": "code",
   "execution_count": 9,
   "metadata": {},
   "outputs": [
    {
     "data": {
      "text/plain": [
       "512"
      ]
     },
     "execution_count": 9,
     "metadata": {},
     "output_type": "execute_result"
    }
   ],
   "source": [
    "len(ratings)"
   ]
  },
  {
   "cell_type": "code",
   "execution_count": 10,
   "metadata": {},
   "outputs": [
    {
     "data": {
      "image/png": "[encoded data removed]",
      "text/plain": [
       "<Figure size 432x288 with 1 Axes>"
      ]
     },
     "metadata": {
      "needs_background": "light"
     },
     "output_type": "display_data"
    }
   ],
   "source": [
    "plt.rc(\"font\", size=15)\n",
    "ratings.Rating.value_counts(sort=True).plot(kind='bar')\n",
    "plt.title('Rating Distribution\\n')\n",
    "plt.xlabel('Rating')\n",
    "plt.ylabel('Count')\n",
    "plt.show()"
   ]
  },
  {
   "cell_type": "code",
   "execution_count": 11,
   "metadata": {},
   "outputs": [
    {
     "data": {
      "text/html": [
       "<div>\n",
       "<style scoped>\n",
       "    .dataframe tbody tr th:only-of-type {\n",
       "        vertical-align: middle;\n",
       "    }\n",
       "\n",
       "    .dataframe tbody tr th {\n",
       "        vertical-align: top;\n",
       "    }\n",
       "\n",
       "    .dataframe thead th {\n",
       "        text-align: right;\n",
       "    }\n",
       "</style>\n",
       "<table border=\"1\" class=\"dataframe\">\n",
       "  <thead>\n",
       "    <tr style=\"text-align: right;\">\n",
       "      <th></th>\n",
       "      <th>User_ID</th>\n",
       "      <th>Food_ID</th>\n",
       "      <th>Rating</th>\n",
       "      <th>Name</th>\n",
       "      <th>C_Type</th>\n",
       "      <th>Veg_Non</th>\n",
       "      <th>Describe</th>\n",
       "    </tr>\n",
       "  </thead>\n",
       "  <tbody>\n",
       "    <tr>\n",
       "      <th>0</th>\n",
       "      <td>1.0</td>\n",
       "      <td>88.0</td>\n",
       "      <td>4.0</td>\n",
       "      <td>peri peri chicken satay</td>\n",
       "      <td>Snack</td>\n",
       "      <td>non-veg</td>\n",
       "      <td>boneless skinless chicken thigh (trimmed), sal...</td>\n",
       "    </tr>\n",
       "    <tr>\n",
       "      <th>1</th>\n",
       "      <td>1.0</td>\n",
       "      <td>46.0</td>\n",
       "      <td>3.0</td>\n",
       "      <td>steam bunny chicken bao</td>\n",
       "      <td>Japanese</td>\n",
       "      <td>non-veg</td>\n",
       "      <td>buns, all purpose white flour, dry yeast, suga...</td>\n",
       "    </tr>\n",
       "    <tr>\n",
       "      <th>2</th>\n",
       "      <td>3.0</td>\n",
       "      <td>46.0</td>\n",
       "      <td>2.0</td>\n",
       "      <td>steam bunny chicken bao</td>\n",
       "      <td>Japanese</td>\n",
       "      <td>non-veg</td>\n",
       "      <td>buns, all purpose white flour, dry yeast, suga...</td>\n",
       "    </tr>\n",
       "    <tr>\n",
       "      <th>3</th>\n",
       "      <td>20.0</td>\n",
       "      <td>46.0</td>\n",
       "      <td>6.0</td>\n",
       "      <td>steam bunny chicken bao</td>\n",
       "      <td>Japanese</td>\n",
       "      <td>non-veg</td>\n",
       "      <td>buns, all purpose white flour, dry yeast, suga...</td>\n",
       "    </tr>\n",
       "    <tr>\n",
       "      <th>4</th>\n",
       "      <td>69.0</td>\n",
       "      <td>46.0</td>\n",
       "      <td>9.0</td>\n",
       "      <td>steam bunny chicken bao</td>\n",
       "      <td>Japanese</td>\n",
       "      <td>non-veg</td>\n",
       "      <td>buns, all purpose white flour, dry yeast, suga...</td>\n",
       "    </tr>\n",
       "  </tbody>\n",
       "</table>\n",
       "</div>"
      ],
      "text/plain": [
       "   User_ID  Food_ID  Rating                     Name    C_Type  Veg_Non  \\\n",
       "0      1.0     88.0     4.0  peri peri chicken satay     Snack  non-veg   \n",
       "1      1.0     46.0     3.0  steam bunny chicken bao  Japanese  non-veg   \n",
       "2      3.0     46.0     2.0  steam bunny chicken bao  Japanese  non-veg   \n",
       "3     20.0     46.0     6.0  steam bunny chicken bao  Japanese  non-veg   \n",
       "4     69.0     46.0     9.0  steam bunny chicken bao  Japanese  non-veg   \n",
       "\n",
       "                                            Describe  \n",
       "0  boneless skinless chicken thigh (trimmed), sal...  \n",
       "1  buns, all purpose white flour, dry yeast, suga...  \n",
       "2  buns, all purpose white flour, dry yeast, suga...  \n",
       "3  buns, all purpose white flour, dry yeast, suga...  \n",
       "4  buns, all purpose white flour, dry yeast, suga...  "
      ]
     },
     "execution_count": 11,
     "metadata": {},
     "output_type": "execute_result"
    }
   ],
   "source": [
    "combined = pd.merge(ratings, food, on='Food_ID')\n",
    "combined.head()"
   ]
  },
  {
   "cell_type": "code",
   "execution_count": null,
   "metadata": {},
   "outputs": [],
   "source": [
    "dataset = ratings.pivot_table(index='Food_ID',columns='User_ID',values='Rating')\n",
    "dataset.fillna(0,inplace=True)"
   ]
  },
  {
   "cell_type": "code",
   "execution_count": null,
   "metadata": {
    "scrolled": true
   },
   "outputs": [],
   "source": [
    "dataset.head()"
   ]
  },
  {
   "cell_type": "code",
   "execution_count": null,
   "metadata": {},
   "outputs": [],
   "source": [
    "dataset.to_csv('users_combined_rating_pivot.csv')"
   ]
  },
  {
   "cell_type": "markdown",
   "metadata": {},
   "source": [
    "## KNN"
   ]
  },
  {
   "cell_type": "code",
   "execution_count": null,
   "metadata": {},
   "outputs": [],
   "source": [
    "from scipy.sparse import csr_matrix\n",
    "from sklearn.neighbors import NearestNeighbors\n",
    "\n",
    "csr_dataset = csr_matrix(dataset.values)\n",
    "dataset.reset_index(inplace=True)\n",
    "\n",
    "knn_model = NearestNeighbors(metric='cosine', algorithm='brute', n_neighbors=20, n_jobs=-1)\n",
    "knn_model.fit(csr_dataset)"
   ]
  },
  {
   "cell_type": "code",
   "execution_count": null,
   "metadata": {},
   "outputs": [],
   "source": [
    "def food_recommendation(Food_Name):\n",
    "    n = 10\n",
    "    FoodList = food[food['Name'].str.contains(Food_Name)]  \n",
    "    if len(FoodList):        \n",
    "        Foodi= FoodList.iloc[0]['Food_ID']\n",
    "        Foodi = dataset[dataset['Food_ID'] == Foodi].index[0]\n",
    "        distances , indices = knn_model.kneighbors(csr_dataset[Foodi],n_neighbors=n+1)    \n",
    "        Food_indices = sorted(list(zip(indices.squeeze().tolist(),distances.squeeze().tolist())),key=lambda x: x[1])\n",
    "#         Food_indices = list(zip(indices.squeeze().tolist(),distances.squeeze().tolist()))[:0:-1]\n",
    "        Recommendations = []\n",
    "        Given_food_index = Foodi\n",
    "        print(Food_indices)\n",
    "        print(distances)\n",
    "        for val in Food_indices:\n",
    "            if(val[1]==0.0):\n",
    "                continue\n",
    "            Foodi = dataset.iloc[val[0]]['Food_ID']\n",
    "            i = food[food['Food_ID'] == Foodi].index\n",
    "            if(i.values==Given_food_index):\n",
    "                n-=1\n",
    "                continue\n",
    "#             print()\n",
    "#             print('Food_id:',Foodi,' Name:',food.iloc[i]['Name'].values[0],'with a distance of',val[1])\n",
    "            Recommendations.append({'Food_id':Foodi,'Name':food.iloc[i]['Name'].values[0],'Distance':val[1]})\n",
    "        df = pd.DataFrame(Recommendations,index=range(1,n+1))\n",
    "        return df\n",
    "    else:\n",
    "        return \"No Similar Foods.\""
   ]
  },
  {
   "cell_type": "code",
   "execution_count": null,
   "metadata": {
    "scrolled": true
   },
   "outputs": [],
   "source": [
    "food_recommendation('chicken biryani')"
   ]
  },
  {
   "cell_type": "code",
   "execution_count": null,
   "metadata": {},
   "outputs": [],
   "source": [
    "import pickle\n",
    "pickle.dump(knn_model, open('knn_model.pkl','wb'))"
   ]
  },
  {
   "cell_type": "markdown",
   "metadata": {},
   "source": [
    "## SVD "
   ]
  },
  {
   "cell_type": "code",
   "execution_count": 19,
   "metadata": {
    "scrolled": true
   },
   "outputs": [
    {
     "data": {
      "text/html": [
       "<div>\n",
       "<style scoped>\n",
       "    .dataframe tbody tr th:only-of-type {\n",
       "        vertical-align: middle;\n",
       "    }\n",
       "\n",
       "    .dataframe tbody tr th {\n",
       "        vertical-align: top;\n",
       "    }\n",
       "\n",
       "    .dataframe thead th {\n",
       "        text-align: right;\n",
       "    }\n",
       "</style>\n",
       "<table border=\"1\" class=\"dataframe\">\n",
       "  <thead>\n",
       "    <tr style=\"text-align: right;\">\n",
       "      <th>Food_ID</th>\n",
       "      <th>1.0</th>\n",
       "      <th>2.0</th>\n",
       "      <th>3.0</th>\n",
       "      <th>4.0</th>\n",
       "      <th>5.0</th>\n",
       "      <th>6.0</th>\n",
       "      <th>7.0</th>\n",
       "      <th>8.0</th>\n",
       "      <th>9.0</th>\n",
       "      <th>10.0</th>\n",
       "      <th>...</th>\n",
       "      <th>300.0</th>\n",
       "      <th>301.0</th>\n",
       "      <th>302.0</th>\n",
       "      <th>303.0</th>\n",
       "      <th>304.0</th>\n",
       "      <th>305.0</th>\n",
       "      <th>306.0</th>\n",
       "      <th>307.0</th>\n",
       "      <th>308.0</th>\n",
       "      <th>309.0</th>\n",
       "    </tr>\n",
       "    <tr>\n",
       "      <th>User_ID</th>\n",
       "      <th></th>\n",
       "      <th></th>\n",
       "      <th></th>\n",
       "      <th></th>\n",
       "      <th></th>\n",
       "      <th></th>\n",
       "      <th></th>\n",
       "      <th></th>\n",
       "      <th></th>\n",
       "      <th></th>\n",
       "      <th></th>\n",
       "      <th></th>\n",
       "      <th></th>\n",
       "      <th></th>\n",
       "      <th></th>\n",
       "      <th></th>\n",
       "      <th></th>\n",
       "      <th></th>\n",
       "      <th></th>\n",
       "      <th></th>\n",
       "      <th></th>\n",
       "    </tr>\n",
       "  </thead>\n",
       "  <tbody>\n",
       "    <tr>\n",
       "      <th>1.0</th>\n",
       "      <td>0.0</td>\n",
       "      <td>0.0</td>\n",
       "      <td>0.0</td>\n",
       "      <td>0.0</td>\n",
       "      <td>0.0</td>\n",
       "      <td>0.0</td>\n",
       "      <td>0.0</td>\n",
       "      <td>0.0</td>\n",
       "      <td>0.0</td>\n",
       "      <td>0.0</td>\n",
       "      <td>...</td>\n",
       "      <td>0.0</td>\n",
       "      <td>0.0</td>\n",
       "      <td>0.0</td>\n",
       "      <td>0.0</td>\n",
       "      <td>0.0</td>\n",
       "      <td>0.0</td>\n",
       "      <td>0.0</td>\n",
       "      <td>0.0</td>\n",
       "      <td>0.0</td>\n",
       "      <td>0.0</td>\n",
       "    </tr>\n",
       "    <tr>\n",
       "      <th>2.0</th>\n",
       "      <td>0.0</td>\n",
       "      <td>0.0</td>\n",
       "      <td>0.0</td>\n",
       "      <td>0.0</td>\n",
       "      <td>0.0</td>\n",
       "      <td>0.0</td>\n",
       "      <td>0.0</td>\n",
       "      <td>0.0</td>\n",
       "      <td>0.0</td>\n",
       "      <td>0.0</td>\n",
       "      <td>...</td>\n",
       "      <td>0.0</td>\n",
       "      <td>0.0</td>\n",
       "      <td>0.0</td>\n",
       "      <td>0.0</td>\n",
       "      <td>0.0</td>\n",
       "      <td>0.0</td>\n",
       "      <td>0.0</td>\n",
       "      <td>0.0</td>\n",
       "      <td>0.0</td>\n",
       "      <td>0.0</td>\n",
       "    </tr>\n",
       "    <tr>\n",
       "      <th>3.0</th>\n",
       "      <td>0.0</td>\n",
       "      <td>0.0</td>\n",
       "      <td>0.0</td>\n",
       "      <td>0.0</td>\n",
       "      <td>0.0</td>\n",
       "      <td>0.0</td>\n",
       "      <td>0.0</td>\n",
       "      <td>0.0</td>\n",
       "      <td>0.0</td>\n",
       "      <td>0.0</td>\n",
       "      <td>...</td>\n",
       "      <td>0.0</td>\n",
       "      <td>0.0</td>\n",
       "      <td>0.0</td>\n",
       "      <td>0.0</td>\n",
       "      <td>0.0</td>\n",
       "      <td>0.0</td>\n",
       "      <td>0.0</td>\n",
       "      <td>0.0</td>\n",
       "      <td>0.0</td>\n",
       "      <td>0.0</td>\n",
       "    </tr>\n",
       "    <tr>\n",
       "      <th>4.0</th>\n",
       "      <td>0.0</td>\n",
       "      <td>0.0</td>\n",
       "      <td>0.0</td>\n",
       "      <td>0.0</td>\n",
       "      <td>0.0</td>\n",
       "      <td>0.0</td>\n",
       "      <td>0.0</td>\n",
       "      <td>0.0</td>\n",
       "      <td>0.0</td>\n",
       "      <td>0.0</td>\n",
       "      <td>...</td>\n",
       "      <td>0.0</td>\n",
       "      <td>0.0</td>\n",
       "      <td>0.0</td>\n",
       "      <td>0.0</td>\n",
       "      <td>0.0</td>\n",
       "      <td>0.0</td>\n",
       "      <td>0.0</td>\n",
       "      <td>0.0</td>\n",
       "      <td>0.0</td>\n",
       "      <td>0.0</td>\n",
       "    </tr>\n",
       "    <tr>\n",
       "      <th>5.0</th>\n",
       "      <td>0.0</td>\n",
       "      <td>0.0</td>\n",
       "      <td>0.0</td>\n",
       "      <td>0.0</td>\n",
       "      <td>0.0</td>\n",
       "      <td>0.0</td>\n",
       "      <td>0.0</td>\n",
       "      <td>6.0</td>\n",
       "      <td>0.0</td>\n",
       "      <td>0.0</td>\n",
       "      <td>...</td>\n",
       "      <td>0.0</td>\n",
       "      <td>0.0</td>\n",
       "      <td>0.0</td>\n",
       "      <td>0.0</td>\n",
       "      <td>0.0</td>\n",
       "      <td>0.0</td>\n",
       "      <td>0.0</td>\n",
       "      <td>0.0</td>\n",
       "      <td>0.0</td>\n",
       "      <td>0.0</td>\n",
       "    </tr>\n",
       "  </tbody>\n",
       "</table>\n",
       "<p>5 rows × 309 columns</p>\n",
       "</div>"
      ],
      "text/plain": [
       "Food_ID  1.0    2.0    3.0    4.0    5.0    6.0    7.0    8.0    9.0    10.0   \\\n",
       "User_ID                                                                         \n",
       "1.0        0.0    0.0    0.0    0.0    0.0    0.0    0.0    0.0    0.0    0.0   \n",
       "2.0        0.0    0.0    0.0    0.0    0.0    0.0    0.0    0.0    0.0    0.0   \n",
       "3.0        0.0    0.0    0.0    0.0    0.0    0.0    0.0    0.0    0.0    0.0   \n",
       "4.0        0.0    0.0    0.0    0.0    0.0    0.0    0.0    0.0    0.0    0.0   \n",
       "5.0        0.0    0.0    0.0    0.0    0.0    0.0    0.0    6.0    0.0    0.0   \n",
       "\n",
       "Food_ID  ...  300.0  301.0  302.0  303.0  304.0  305.0  306.0  307.0  308.0  \\\n",
       "User_ID  ...                                                                  \n",
       "1.0      ...    0.0    0.0    0.0    0.0    0.0    0.0    0.0    0.0    0.0   \n",
       "2.0      ...    0.0    0.0    0.0    0.0    0.0    0.0    0.0    0.0    0.0   \n",
       "3.0      ...    0.0    0.0    0.0    0.0    0.0    0.0    0.0    0.0    0.0   \n",
       "4.0      ...    0.0    0.0    0.0    0.0    0.0    0.0    0.0    0.0    0.0   \n",
       "5.0      ...    0.0    0.0    0.0    0.0    0.0    0.0    0.0    0.0    0.0   \n",
       "\n",
       "Food_ID  309.0  \n",
       "User_ID         \n",
       "1.0        0.0  \n",
       "2.0        0.0  \n",
       "3.0        0.0  \n",
       "4.0        0.0  \n",
       "5.0        0.0  \n",
       "\n",
       "[5 rows x 309 columns]"
      ]
     },
     "execution_count": 19,
     "metadata": {},
     "output_type": "execute_result"
    }
   ],
   "source": [
    "dataset_2 = ratings.pivot_table(index='User_ID',columns='Food_ID',values='Rating')\n",
    "dataset_2.fillna(0,inplace=True)\n",
    "dataset_2.head()"
   ]
  },
  {
   "cell_type": "code",
   "execution_count": 20,
   "metadata": {
    "scrolled": false
   },
   "outputs": [
    {
     "data": {
      "text/plain": [
       "array([[-0.05177994, -0.05177994, -0.05177994, ..., -0.05177994,\n",
       "        -0.05177994, -0.05177994],\n",
       "       [-0.08414239, -0.08414239, -0.08414239, ..., -0.08414239,\n",
       "        -0.08414239, -0.08414239],\n",
       "       [-0.15533981, -0.15533981, -0.15533981, ..., -0.15533981,\n",
       "        -0.15533981, -0.15533981],\n",
       "       ...,\n",
       "       [-0.09708738, -0.09708738, -0.09708738, ..., -0.09708738,\n",
       "        -0.09708738, -0.09708738],\n",
       "       [-0.09061489, -0.09061489, -0.09061489, ..., -0.09061489,\n",
       "        -0.09061489, -0.09061489],\n",
       "       [-0.08737864, -0.08737864, -0.08737864, ..., -0.08737864,\n",
       "        -0.08737864, -0.08737864]])"
      ]
     },
     "execution_count": 20,
     "metadata": {},
     "output_type": "execute_result"
    }
   ],
   "source": [
    "R = dataset_2.values\n",
    "user_ratings_mean = np.mean(R, axis = 1)\n",
    "Ratings_demeaned = R - user_ratings_mean.reshape(-1, 1)\n",
    "Ratings_demeaned"
   ]
  },
  {
   "cell_type": "code",
   "execution_count": 21,
   "metadata": {},
   "outputs": [
    {
     "name": "stdout",
     "output_type": "stream",
     "text": [
      "Number of users = 101 | Number of food_items = 310\n"
     ]
    }
   ],
   "source": [
    "n_users = ratings.User_ID.unique().shape[0]\n",
    "n_food = ratings.Food_ID.unique().shape[0]\n",
    "print('Number of users = '+str(n_users)+' | Number of food_items = '+str(n_food))"
   ]
  },
  {
   "cell_type": "code",
   "execution_count": 22,
   "metadata": {},
   "outputs": [
    {
     "name": "stdout",
     "output_type": "stream",
     "text": [
      "The sparsity level of dataset is 98.4%\n"
     ]
    }
   ],
   "source": [
    "sparsity = round(1.0 - len(ratings) / float(n_users * n_food), 3)\n",
    "print('The sparsity level of dataset is ' +  str(sparsity * 100) + '%')"
   ]
  },
  {
   "cell_type": "code",
   "execution_count": 23,
   "metadata": {},
   "outputs": [],
   "source": [
    "from scipy.sparse.linalg import svds\n",
    "U, sigma, Vt = svds(Ratings_demeaned, k = 50)"
   ]
  },
  {
   "cell_type": "code",
   "execution_count": 24,
   "metadata": {},
   "outputs": [],
   "source": [
    "sigma = np.diag(sigma)"
   ]
  },
  {
   "cell_type": "code",
   "execution_count": 25,
   "metadata": {},
   "outputs": [
    {
     "data": {
      "text/plain": [
       "numpy.ndarray"
      ]
     },
     "execution_count": 25,
     "metadata": {},
     "output_type": "execute_result"
    }
   ],
   "source": [
    "type(Vt)"
   ]
  },
  {
   "cell_type": "code",
   "execution_count": 26,
   "metadata": {},
   "outputs": [],
   "source": [
    "all_user_predicted_ratings = np.dot(np.dot(U, sigma), Vt) + user_ratings_mean.reshape(-1, 1)"
   ]
  },
  {
   "cell_type": "code",
   "execution_count": 27,
   "metadata": {
    "scrolled": true
   },
   "outputs": [
    {
     "data": {
      "text/html": [
       "<div>\n",
       "<style scoped>\n",
       "    .dataframe tbody tr th:only-of-type {\n",
       "        vertical-align: middle;\n",
       "    }\n",
       "\n",
       "    .dataframe tbody tr th {\n",
       "        vertical-align: top;\n",
       "    }\n",
       "\n",
       "    .dataframe thead th {\n",
       "        text-align: right;\n",
       "    }\n",
       "</style>\n",
       "<table border=\"1\" class=\"dataframe\">\n",
       "  <thead>\n",
       "    <tr style=\"text-align: right;\">\n",
       "      <th>Food_ID</th>\n",
       "      <th>1.0</th>\n",
       "      <th>2.0</th>\n",
       "      <th>3.0</th>\n",
       "      <th>4.0</th>\n",
       "      <th>5.0</th>\n",
       "      <th>6.0</th>\n",
       "      <th>7.0</th>\n",
       "      <th>8.0</th>\n",
       "      <th>9.0</th>\n",
       "      <th>10.0</th>\n",
       "      <th>...</th>\n",
       "      <th>300.0</th>\n",
       "      <th>301.0</th>\n",
       "      <th>302.0</th>\n",
       "      <th>303.0</th>\n",
       "      <th>304.0</th>\n",
       "      <th>305.0</th>\n",
       "      <th>306.0</th>\n",
       "      <th>307.0</th>\n",
       "      <th>308.0</th>\n",
       "      <th>309.0</th>\n",
       "    </tr>\n",
       "  </thead>\n",
       "  <tbody>\n",
       "    <tr>\n",
       "      <th>0</th>\n",
       "      <td>-0.048949</td>\n",
       "      <td>0.002101</td>\n",
       "      <td>0.011330</td>\n",
       "      <td>-0.077076</td>\n",
       "      <td>0.020332</td>\n",
       "      <td>-0.028672</td>\n",
       "      <td>-0.098129</td>\n",
       "      <td>-0.171783</td>\n",
       "      <td>-0.124071</td>\n",
       "      <td>-0.043170</td>\n",
       "      <td>...</td>\n",
       "      <td>-0.014799</td>\n",
       "      <td>0.060264</td>\n",
       "      <td>0.024905</td>\n",
       "      <td>0.073726</td>\n",
       "      <td>0.022573</td>\n",
       "      <td>-0.011967</td>\n",
       "      <td>0.087599</td>\n",
       "      <td>0.014540</td>\n",
       "      <td>0.252929</td>\n",
       "      <td>0.022718</td>\n",
       "    </tr>\n",
       "    <tr>\n",
       "      <th>1</th>\n",
       "      <td>-0.186800</td>\n",
       "      <td>-0.007912</td>\n",
       "      <td>-0.042540</td>\n",
       "      <td>-0.898963</td>\n",
       "      <td>-0.084581</td>\n",
       "      <td>-0.028339</td>\n",
       "      <td>-0.150486</td>\n",
       "      <td>-0.101445</td>\n",
       "      <td>-0.115920</td>\n",
       "      <td>-0.108364</td>\n",
       "      <td>...</td>\n",
       "      <td>0.062862</td>\n",
       "      <td>0.079658</td>\n",
       "      <td>0.050724</td>\n",
       "      <td>0.103593</td>\n",
       "      <td>0.065283</td>\n",
       "      <td>-0.166912</td>\n",
       "      <td>-0.039653</td>\n",
       "      <td>0.047565</td>\n",
       "      <td>0.030345</td>\n",
       "      <td>0.012797</td>\n",
       "    </tr>\n",
       "    <tr>\n",
       "      <th>2</th>\n",
       "      <td>-0.032185</td>\n",
       "      <td>0.019317</td>\n",
       "      <td>-0.108391</td>\n",
       "      <td>-0.063803</td>\n",
       "      <td>-0.080629</td>\n",
       "      <td>-0.027423</td>\n",
       "      <td>-0.091557</td>\n",
       "      <td>-0.053898</td>\n",
       "      <td>-0.083616</td>\n",
       "      <td>-0.091422</td>\n",
       "      <td>...</td>\n",
       "      <td>-0.020945</td>\n",
       "      <td>0.053987</td>\n",
       "      <td>0.057926</td>\n",
       "      <td>0.040231</td>\n",
       "      <td>0.067101</td>\n",
       "      <td>-0.134565</td>\n",
       "      <td>0.029937</td>\n",
       "      <td>0.059610</td>\n",
       "      <td>0.050380</td>\n",
       "      <td>-0.049891</td>\n",
       "    </tr>\n",
       "    <tr>\n",
       "      <th>3</th>\n",
       "      <td>-0.350374</td>\n",
       "      <td>-0.172312</td>\n",
       "      <td>-0.078371</td>\n",
       "      <td>-0.109807</td>\n",
       "      <td>-0.039780</td>\n",
       "      <td>-0.024423</td>\n",
       "      <td>-0.225578</td>\n",
       "      <td>-0.011290</td>\n",
       "      <td>-0.251320</td>\n",
       "      <td>-0.117247</td>\n",
       "      <td>...</td>\n",
       "      <td>0.175080</td>\n",
       "      <td>0.113178</td>\n",
       "      <td>0.057976</td>\n",
       "      <td>0.132643</td>\n",
       "      <td>0.135032</td>\n",
       "      <td>-0.304662</td>\n",
       "      <td>0.056973</td>\n",
       "      <td>0.082878</td>\n",
       "      <td>0.155382</td>\n",
       "      <td>-0.023058</td>\n",
       "    </tr>\n",
       "    <tr>\n",
       "      <th>4</th>\n",
       "      <td>-0.024147</td>\n",
       "      <td>0.001343</td>\n",
       "      <td>-0.230989</td>\n",
       "      <td>0.056057</td>\n",
       "      <td>-0.082824</td>\n",
       "      <td>-0.038933</td>\n",
       "      <td>-0.069143</td>\n",
       "      <td>6.120407</td>\n",
       "      <td>-0.082034</td>\n",
       "      <td>-0.247019</td>\n",
       "      <td>...</td>\n",
       "      <td>0.095883</td>\n",
       "      <td>0.056805</td>\n",
       "      <td>0.067464</td>\n",
       "      <td>0.031411</td>\n",
       "      <td>0.040180</td>\n",
       "      <td>-0.135914</td>\n",
       "      <td>0.044329</td>\n",
       "      <td>0.039137</td>\n",
       "      <td>0.075536</td>\n",
       "      <td>-0.045251</td>\n",
       "    </tr>\n",
       "  </tbody>\n",
       "</table>\n",
       "<p>5 rows × 309 columns</p>\n",
       "</div>"
      ],
      "text/plain": [
       "Food_ID     1.0       2.0       3.0       4.0       5.0       6.0       7.0    \\\n",
       "0       -0.048949  0.002101  0.011330 -0.077076  0.020332 -0.028672 -0.098129   \n",
       "1       -0.186800 -0.007912 -0.042540 -0.898963 -0.084581 -0.028339 -0.150486   \n",
       "2       -0.032185  0.019317 -0.108391 -0.063803 -0.080629 -0.027423 -0.091557   \n",
       "3       -0.350374 -0.172312 -0.078371 -0.109807 -0.039780 -0.024423 -0.225578   \n",
       "4       -0.024147  0.001343 -0.230989  0.056057 -0.082824 -0.038933 -0.069143   \n",
       "\n",
       "Food_ID     8.0       9.0       10.0   ...     300.0     301.0     302.0  \\\n",
       "0       -0.171783 -0.124071 -0.043170  ... -0.014799  0.060264  0.024905   \n",
       "1       -0.101445 -0.115920 -0.108364  ...  0.062862  0.079658  0.050724   \n",
       "2       -0.053898 -0.083616 -0.091422  ... -0.020945  0.053987  0.057926   \n",
       "3       -0.011290 -0.251320 -0.117247  ...  0.175080  0.113178  0.057976   \n",
       "4        6.120407 -0.082034 -0.247019  ...  0.095883  0.056805  0.067464   \n",
       "\n",
       "Food_ID     303.0     304.0     305.0     306.0     307.0     308.0     309.0  \n",
       "0        0.073726  0.022573 -0.011967  0.087599  0.014540  0.252929  0.022718  \n",
       "1        0.103593  0.065283 -0.166912 -0.039653  0.047565  0.030345  0.012797  \n",
       "2        0.040231  0.067101 -0.134565  0.029937  0.059610  0.050380 -0.049891  \n",
       "3        0.132643  0.135032 -0.304662  0.056973  0.082878  0.155382 -0.023058  \n",
       "4        0.031411  0.040180 -0.135914  0.044329  0.039137  0.075536 -0.045251  \n",
       "\n",
       "[5 rows x 309 columns]"
      ]
     },
     "execution_count": 27,
     "metadata": {},
     "output_type": "execute_result"
    }
   ],
   "source": [
    "preds = pd.DataFrame(all_user_predicted_ratings, columns = dataset_2.columns)\n",
    "preds.head()"
   ]
  },
  {
   "cell_type": "code",
   "execution_count": 28,
   "metadata": {},
   "outputs": [],
   "source": [
    "preds.to_csv('predicted.csv')"
   ]
  },
  {
   "cell_type": "code",
   "execution_count": 29,
   "metadata": {},
   "outputs": [],
   "source": [
    "def recommend_food(predictions, userID, food, original_ratings, num_recommendations):\n",
    "    \n",
    "    # Get and sort the user's predictions\n",
    "    user_row_number = userID - 1 # User ID starts at 1, not 0\n",
    "    sorted_user_predictions = preds.iloc[user_row_number].sort_values(ascending=False) # User ID starts at 1\n",
    "    \n",
    "    # Get the user's data and merge in the food information.\n",
    "    user_data = original_ratings[original_ratings.User_ID == (userID)]\n",
    "    user_full = (user_data.merge(food, how = 'left', left_on = 'Food_ID', right_on = 'Food_ID').\n",
    "                     sort_values(['Rating'], ascending=False)\n",
    "                 )\n",
    "\n",
    "    print('User {0} has already rated {1} food.'.format(userID, user_full.shape[0]))\n",
    "    print('Recommending highest {0} predicted ratings food not already rated.'.format(num_recommendations))\n",
    "    display(user_full)\n",
    "    display(pd.DataFrame(sorted_user_predictions).reset_index())\n",
    "    \n",
    "     # Recommend the highest predicted rating foods that the user hasn't tasted yet.\n",
    "    recommendations = (food[~food['Food_ID'].isin(user_full['Food_ID'])].\n",
    "         merge(pd.DataFrame(sorted_user_predictions).reset_index(), how = 'left',\n",
    "               left_on = 'Food_ID',\n",
    "               right_on = 'Food_ID').\n",
    "         rename(columns = {user_row_number: 'Predictions'}).\n",
    "         sort_values('Predictions', ascending = False).\n",
    "                       iloc[:num_recommendations, :-1]\n",
    "                      )\n",
    "\n",
    "    return user_full, recommendations\n",
    "   "
   ]
  },
  {
   "cell_type": "code",
   "execution_count": 30,
   "metadata": {},
   "outputs": [
    {
     "name": "stdout",
     "output_type": "stream",
     "text": [
      "User 4 has already rated 6 food.\n",
      "Recommending highest 10 predicted ratings food not already rated.\n"
     ]
    },
    {
     "data": {
      "text/html": [
       "<div>\n",
       "<style scoped>\n",
       "    .dataframe tbody tr th:only-of-type {\n",
       "        vertical-align: middle;\n",
       "    }\n",
       "\n",
       "    .dataframe tbody tr th {\n",
       "        vertical-align: top;\n",
       "    }\n",
       "\n",
       "    .dataframe thead th {\n",
       "        text-align: right;\n",
       "    }\n",
       "</style>\n",
       "<table border=\"1\" class=\"dataframe\">\n",
       "  <thead>\n",
       "    <tr style=\"text-align: right;\">\n",
       "      <th></th>\n",
       "      <th>User_ID</th>\n",
       "      <th>Food_ID</th>\n",
       "      <th>Rating</th>\n",
       "      <th>Name</th>\n",
       "      <th>C_Type</th>\n",
       "      <th>Veg_Non</th>\n",
       "      <th>Describe</th>\n",
       "    </tr>\n",
       "  </thead>\n",
       "  <tbody>\n",
       "    <tr>\n",
       "      <th>3</th>\n",
       "      <td>4.0</td>\n",
       "      <td>212.0</td>\n",
       "      <td>10.0</td>\n",
       "      <td>al hachi chicken</td>\n",
       "      <td>Indian</td>\n",
       "      <td>non-veg</td>\n",
       "      <td>shallow fried chicken, bottle gourd (boiled an...</td>\n",
       "    </tr>\n",
       "    <tr>\n",
       "      <th>4</th>\n",
       "      <td>4.0</td>\n",
       "      <td>128.0</td>\n",
       "      <td>6.0</td>\n",
       "      <td>thai lamb balls</td>\n",
       "      <td>Thai</td>\n",
       "      <td>non-veg</td>\n",
       "      <td>lamb (minced), couscous, scallion, garlic, egg...</td>\n",
       "    </tr>\n",
       "    <tr>\n",
       "      <th>0</th>\n",
       "      <td>4.0</td>\n",
       "      <td>14.0</td>\n",
       "      <td>5.0</td>\n",
       "      <td>peach, raspberry and nuts smoothie</td>\n",
       "      <td>Healthy Food</td>\n",
       "      <td>veg</td>\n",
       "      <td>fresh raspberries, ripe banana, almond, fresh ...</td>\n",
       "    </tr>\n",
       "    <tr>\n",
       "      <th>1</th>\n",
       "      <td>4.0</td>\n",
       "      <td>141.0</td>\n",
       "      <td>5.0</td>\n",
       "      <td>risotto lobster with parmesan egg pancake, con...</td>\n",
       "      <td>Italian</td>\n",
       "      <td>non-veg</td>\n",
       "      <td>lobster shell, carrot, leeks, garlic cloves, t...</td>\n",
       "    </tr>\n",
       "    <tr>\n",
       "      <th>2</th>\n",
       "      <td>4.0</td>\n",
       "      <td>170.0</td>\n",
       "      <td>1.0</td>\n",
       "      <td>fried rice with soya chunks</td>\n",
       "      <td>Chinese</td>\n",
       "      <td>veg</td>\n",
       "      <td>basmati rice, carrot, capsicum, beans, green p...</td>\n",
       "    </tr>\n",
       "    <tr>\n",
       "      <th>5</th>\n",
       "      <td>4.0</td>\n",
       "      <td>21.0</td>\n",
       "      <td>1.0</td>\n",
       "      <td>apple rabdi</td>\n",
       "      <td>Dessert</td>\n",
       "      <td>veg</td>\n",
       "      <td>apples, milk, sugar, green cardamoms, almonds ...</td>\n",
       "    </tr>\n",
       "  </tbody>\n",
       "</table>\n",
       "</div>"
      ],
      "text/plain": [
       "   User_ID  Food_ID  Rating  \\\n",
       "3      4.0    212.0    10.0   \n",
       "4      4.0    128.0     6.0   \n",
       "0      4.0     14.0     5.0   \n",
       "1      4.0    141.0     5.0   \n",
       "2      4.0    170.0     1.0   \n",
       "5      4.0     21.0     1.0   \n",
       "\n",
       "                                                Name        C_Type  Veg_Non  \\\n",
       "3                                   al hachi chicken        Indian  non-veg   \n",
       "4                                    thai lamb balls          Thai  non-veg   \n",
       "0                 peach, raspberry and nuts smoothie  Healthy Food      veg   \n",
       "1  risotto lobster with parmesan egg pancake, con...       Italian  non-veg   \n",
       "2                        fried rice with soya chunks       Chinese      veg   \n",
       "5                                        apple rabdi       Dessert      veg   \n",
       "\n",
       "                                            Describe  \n",
       "3  shallow fried chicken, bottle gourd (boiled an...  \n",
       "4  lamb (minced), couscous, scallion, garlic, egg...  \n",
       "0  fresh raspberries, ripe banana, almond, fresh ...  \n",
       "1  lobster shell, carrot, leeks, garlic cloves, t...  \n",
       "2  basmati rice, carrot, capsicum, beans, green p...  \n",
       "5  apples, milk, sugar, green cardamoms, almonds ...  "
      ]
     },
     "metadata": {},
     "output_type": "display_data"
    },
    {
     "data": {
      "text/html": [
       "<div>\n",
       "<style scoped>\n",
       "    .dataframe tbody tr th:only-of-type {\n",
       "        vertical-align: middle;\n",
       "    }\n",
       "\n",
       "    .dataframe tbody tr th {\n",
       "        vertical-align: top;\n",
       "    }\n",
       "\n",
       "    .dataframe thead th {\n",
       "        text-align: right;\n",
       "    }\n",
       "</style>\n",
       "<table border=\"1\" class=\"dataframe\">\n",
       "  <thead>\n",
       "    <tr style=\"text-align: right;\">\n",
       "      <th></th>\n",
       "      <th>Food_ID</th>\n",
       "      <th>3</th>\n",
       "    </tr>\n",
       "  </thead>\n",
       "  <tbody>\n",
       "    <tr>\n",
       "      <th>0</th>\n",
       "      <td>212.0</td>\n",
       "      <td>9.509673</td>\n",
       "    </tr>\n",
       "    <tr>\n",
       "      <th>1</th>\n",
       "      <td>128.0</td>\n",
       "      <td>5.676348</td>\n",
       "    </tr>\n",
       "    <tr>\n",
       "      <th>2</th>\n",
       "      <td>14.0</td>\n",
       "      <td>4.737564</td>\n",
       "    </tr>\n",
       "    <tr>\n",
       "      <th>3</th>\n",
       "      <td>141.0</td>\n",
       "      <td>4.737564</td>\n",
       "    </tr>\n",
       "    <tr>\n",
       "      <th>4</th>\n",
       "      <td>170.0</td>\n",
       "      <td>1.051432</td>\n",
       "    </tr>\n",
       "    <tr>\n",
       "      <th>...</th>\n",
       "      <td>...</td>\n",
       "      <td>...</td>\n",
       "    </tr>\n",
       "    <tr>\n",
       "      <th>304</th>\n",
       "      <td>47.0</td>\n",
       "      <td>-0.422146</td>\n",
       "    </tr>\n",
       "    <tr>\n",
       "      <th>305</th>\n",
       "      <td>15.0</td>\n",
       "      <td>-0.454916</td>\n",
       "    </tr>\n",
       "    <tr>\n",
       "      <th>306</th>\n",
       "      <td>172.0</td>\n",
       "      <td>-0.471280</td>\n",
       "    </tr>\n",
       "    <tr>\n",
       "      <th>307</th>\n",
       "      <td>119.0</td>\n",
       "      <td>-0.471280</td>\n",
       "    </tr>\n",
       "    <tr>\n",
       "      <th>308</th>\n",
       "      <td>184.0</td>\n",
       "      <td>-0.478874</td>\n",
       "    </tr>\n",
       "  </tbody>\n",
       "</table>\n",
       "<p>309 rows × 2 columns</p>\n",
       "</div>"
      ],
      "text/plain": [
       "     Food_ID         3\n",
       "0      212.0  9.509673\n",
       "1      128.0  5.676348\n",
       "2       14.0  4.737564\n",
       "3      141.0  4.737564\n",
       "4      170.0  1.051432\n",
       "..       ...       ...\n",
       "304     47.0 -0.422146\n",
       "305     15.0 -0.454916\n",
       "306    172.0 -0.471280\n",
       "307    119.0 -0.471280\n",
       "308    184.0 -0.478874\n",
       "\n",
       "[309 rows x 2 columns]"
      ]
     },
     "metadata": {},
     "output_type": "display_data"
    }
   ],
   "source": [
    "already_rated, predictions = recommend_food(preds, 4, food, ratings, 10)"
   ]
  },
  {
   "cell_type": "code",
   "execution_count": 31,
   "metadata": {},
   "outputs": [
    {
     "data": {
      "text/html": [
       "<div>\n",
       "<style scoped>\n",
       "    .dataframe tbody tr th:only-of-type {\n",
       "        vertical-align: middle;\n",
       "    }\n",
       "\n",
       "    .dataframe tbody tr th {\n",
       "        vertical-align: top;\n",
       "    }\n",
       "\n",
       "    .dataframe thead th {\n",
       "        text-align: right;\n",
       "    }\n",
       "</style>\n",
       "<table border=\"1\" class=\"dataframe\">\n",
       "  <thead>\n",
       "    <tr style=\"text-align: right;\">\n",
       "      <th></th>\n",
       "      <th>User_ID</th>\n",
       "      <th>Food_ID</th>\n",
       "      <th>Rating</th>\n",
       "      <th>Name</th>\n",
       "      <th>C_Type</th>\n",
       "      <th>Veg_Non</th>\n",
       "      <th>Describe</th>\n",
       "    </tr>\n",
       "  </thead>\n",
       "  <tbody>\n",
       "    <tr>\n",
       "      <th>3</th>\n",
       "      <td>4.0</td>\n",
       "      <td>212.0</td>\n",
       "      <td>10.0</td>\n",
       "      <td>al hachi chicken</td>\n",
       "      <td>Indian</td>\n",
       "      <td>non-veg</td>\n",
       "      <td>shallow fried chicken, bottle gourd (boiled an...</td>\n",
       "    </tr>\n",
       "    <tr>\n",
       "      <th>4</th>\n",
       "      <td>4.0</td>\n",
       "      <td>128.0</td>\n",
       "      <td>6.0</td>\n",
       "      <td>thai lamb balls</td>\n",
       "      <td>Thai</td>\n",
       "      <td>non-veg</td>\n",
       "      <td>lamb (minced), couscous, scallion, garlic, egg...</td>\n",
       "    </tr>\n",
       "    <tr>\n",
       "      <th>0</th>\n",
       "      <td>4.0</td>\n",
       "      <td>14.0</td>\n",
       "      <td>5.0</td>\n",
       "      <td>peach, raspberry and nuts smoothie</td>\n",
       "      <td>Healthy Food</td>\n",
       "      <td>veg</td>\n",
       "      <td>fresh raspberries, ripe banana, almond, fresh ...</td>\n",
       "    </tr>\n",
       "    <tr>\n",
       "      <th>1</th>\n",
       "      <td>4.0</td>\n",
       "      <td>141.0</td>\n",
       "      <td>5.0</td>\n",
       "      <td>risotto lobster with parmesan egg pancake, con...</td>\n",
       "      <td>Italian</td>\n",
       "      <td>non-veg</td>\n",
       "      <td>lobster shell, carrot, leeks, garlic cloves, t...</td>\n",
       "    </tr>\n",
       "    <tr>\n",
       "      <th>2</th>\n",
       "      <td>4.0</td>\n",
       "      <td>170.0</td>\n",
       "      <td>1.0</td>\n",
       "      <td>fried rice with soya chunks</td>\n",
       "      <td>Chinese</td>\n",
       "      <td>veg</td>\n",
       "      <td>basmati rice, carrot, capsicum, beans, green p...</td>\n",
       "    </tr>\n",
       "  </tbody>\n",
       "</table>\n",
       "</div>"
      ],
      "text/plain": [
       "   User_ID  Food_ID  Rating  \\\n",
       "3      4.0    212.0    10.0   \n",
       "4      4.0    128.0     6.0   \n",
       "0      4.0     14.0     5.0   \n",
       "1      4.0    141.0     5.0   \n",
       "2      4.0    170.0     1.0   \n",
       "\n",
       "                                                Name        C_Type  Veg_Non  \\\n",
       "3                                   al hachi chicken        Indian  non-veg   \n",
       "4                                    thai lamb balls          Thai  non-veg   \n",
       "0                 peach, raspberry and nuts smoothie  Healthy Food      veg   \n",
       "1  risotto lobster with parmesan egg pancake, con...       Italian  non-veg   \n",
       "2                        fried rice with soya chunks       Chinese      veg   \n",
       "\n",
       "                                            Describe  \n",
       "3  shallow fried chicken, bottle gourd (boiled an...  \n",
       "4  lamb (minced), couscous, scallion, garlic, egg...  \n",
       "0  fresh raspberries, ripe banana, almond, fresh ...  \n",
       "1  lobster shell, carrot, leeks, garlic cloves, t...  \n",
       "2  basmati rice, carrot, capsicum, beans, green p...  "
      ]
     },
     "execution_count": 31,
     "metadata": {},
     "output_type": "execute_result"
    }
   ],
   "source": [
    "# Top 5 food that User 1310 has rated \n",
    "already_rated.head(5)"
   ]
  },
  {
   "cell_type": "code",
   "execution_count": 32,
   "metadata": {
    "scrolled": false
   },
   "outputs": [
    {
     "data": {
      "text/html": [
       "<div>\n",
       "<style scoped>\n",
       "    .dataframe tbody tr th:only-of-type {\n",
       "        vertical-align: middle;\n",
       "    }\n",
       "\n",
       "    .dataframe tbody tr th {\n",
       "        vertical-align: top;\n",
       "    }\n",
       "\n",
       "    .dataframe thead th {\n",
       "        text-align: right;\n",
       "    }\n",
       "</style>\n",
       "<table border=\"1\" class=\"dataframe\">\n",
       "  <thead>\n",
       "    <tr style=\"text-align: right;\">\n",
       "      <th></th>\n",
       "      <th>Food_ID</th>\n",
       "      <th>Name</th>\n",
       "      <th>C_Type</th>\n",
       "      <th>Veg_Non</th>\n",
       "      <th>Describe</th>\n",
       "    </tr>\n",
       "  </thead>\n",
       "  <tbody>\n",
       "    <tr>\n",
       "      <th>150</th>\n",
       "      <td>155</td>\n",
       "      <td>chilli fish</td>\n",
       "      <td>Chinese</td>\n",
       "      <td>non-veg</td>\n",
       "      <td>For fish pieces (Boneless), Flour, Cornflour, ...</td>\n",
       "    </tr>\n",
       "    <tr>\n",
       "      <th>58</th>\n",
       "      <td>61</td>\n",
       "      <td>crunchy vegetable dal sattu croquettes</td>\n",
       "      <td>Italian</td>\n",
       "      <td>veg</td>\n",
       "      <td>red lentils or masoor dal (half-boiled), potat...</td>\n",
       "    </tr>\n",
       "    <tr>\n",
       "      <th>93</th>\n",
       "      <td>96</td>\n",
       "      <td>methi chicken masala</td>\n",
       "      <td>Indian</td>\n",
       "      <td>non-veg</td>\n",
       "      <td>boneless chicken, lemon juice, red chilli powd...</td>\n",
       "    </tr>\n",
       "    <tr>\n",
       "      <th>180</th>\n",
       "      <td>186</td>\n",
       "      <td>strawberry &amp; pistachio breton tart</td>\n",
       "      <td>Dessert</td>\n",
       "      <td>veg</td>\n",
       "      <td>plain flour, baking powder, sea salt, unsalted...</td>\n",
       "    </tr>\n",
       "    <tr>\n",
       "      <th>124</th>\n",
       "      <td>127</td>\n",
       "      <td>cajun spiced turkey wrapped with bacon</td>\n",
       "      <td>Mexican</td>\n",
       "      <td>non-veg</td>\n",
       "      <td>turkey breast, cajun spice, spinach leaves (co...</td>\n",
       "    </tr>\n",
       "    <tr>\n",
       "      <th>42</th>\n",
       "      <td>45</td>\n",
       "      <td>ghee roast chicken dosa quesadilla</td>\n",
       "      <td>Mexican</td>\n",
       "      <td>non-veg</td>\n",
       "      <td>dry red chillies, coriander seeds, cumin seeds...</td>\n",
       "    </tr>\n",
       "    <tr>\n",
       "      <th>262</th>\n",
       "      <td>269</td>\n",
       "      <td>spiced orange valencia cake</td>\n",
       "      <td>Dessert</td>\n",
       "      <td>veg</td>\n",
       "      <td>egg whites, egg white powder, sugar, almond po...</td>\n",
       "    </tr>\n",
       "    <tr>\n",
       "      <th>60</th>\n",
       "      <td>63</td>\n",
       "      <td>flax seed and beetroot modak</td>\n",
       "      <td>Japanese</td>\n",
       "      <td>veg</td>\n",
       "      <td>rice flour, salt, oil (for greasing), beetroot...</td>\n",
       "    </tr>\n",
       "    <tr>\n",
       "      <th>146</th>\n",
       "      <td>151</td>\n",
       "      <td>fish andlouse</td>\n",
       "      <td>French</td>\n",
       "      <td>non-veg</td>\n",
       "      <td>white wine and water mix to cover, onion, salt...</td>\n",
       "    </tr>\n",
       "    <tr>\n",
       "      <th>71</th>\n",
       "      <td>74</td>\n",
       "      <td>slow cooked spiced sangria</td>\n",
       "      <td>Mexican</td>\n",
       "      <td>veg</td>\n",
       "      <td>red wine (merlot / zinfandel), apple cider, ho...</td>\n",
       "    </tr>\n",
       "  </tbody>\n",
       "</table>\n",
       "</div>"
      ],
      "text/plain": [
       "     Food_ID                                    Name    C_Type  Veg_Non  \\\n",
       "150      155                             chilli fish   Chinese  non-veg   \n",
       "58        61  crunchy vegetable dal sattu croquettes   Italian      veg   \n",
       "93        96                    methi chicken masala    Indian  non-veg   \n",
       "180      186      strawberry & pistachio breton tart   Dessert      veg   \n",
       "124      127  cajun spiced turkey wrapped with bacon   Mexican  non-veg   \n",
       "42        45      ghee roast chicken dosa quesadilla   Mexican  non-veg   \n",
       "262      269             spiced orange valencia cake   Dessert      veg   \n",
       "60        63            flax seed and beetroot modak  Japanese      veg   \n",
       "146      151                           fish andlouse    French  non-veg   \n",
       "71        74              slow cooked spiced sangria   Mexican      veg   \n",
       "\n",
       "                                              Describe  \n",
       "150  For fish pieces (Boneless), Flour, Cornflour, ...  \n",
       "58   red lentils or masoor dal (half-boiled), potat...  \n",
       "93   boneless chicken, lemon juice, red chilli powd...  \n",
       "180  plain flour, baking powder, sea salt, unsalted...  \n",
       "124  turkey breast, cajun spice, spinach leaves (co...  \n",
       "42   dry red chillies, coriander seeds, cumin seeds...  \n",
       "262  egg whites, egg white powder, sugar, almond po...  \n",
       "60   rice flour, salt, oil (for greasing), beetroot...  \n",
       "146  white wine and water mix to cover, onion, salt...  \n",
       "71   red wine (merlot / zinfandel), apple cider, ho...  "
      ]
     },
     "execution_count": 32,
     "metadata": {},
     "output_type": "execute_result"
    }
   ],
   "source": [
    "# Top 10 food that User 4 hopefully will enjoy\n",
    "predictions"
   ]
  },
  {
   "cell_type": "markdown",
   "metadata": {},
   "source": [
    "### SVD Evluation"
   ]
  },
  {
   "cell_type": "code",
   "execution_count": 33,
   "metadata": {
    "scrolled": true
   },
   "outputs": [
    {
     "name": "stdout",
     "output_type": "stream",
     "text": [
      "Evaluating RMSE, MAE of algorithm SVD on 5 split(s).\n",
      "\n",
      "                  Fold 1  Fold 2  Fold 3  Fold 4  Fold 5  Mean    Std     \n",
      "RMSE (testset)    2.9543  2.8181  2.9472  nan     2.7935  nan     nan     \n",
      "MAE (testset)     2.4951  2.3883  2.4706  nan     2.2941  nan     nan     \n",
      "Fit time          0.06    0.02    0.02    0.03    0.02    0.03    0.01    \n",
      "Test time         0.00    0.00    0.00    0.00    0.00    0.00    0.00    \n"
     ]
    },
    {
     "data": {
      "text/plain": [
       "{'test_rmse': array([2.95434516, 2.81811064, 2.94724863,        nan, 2.79354999]),\n",
       " 'test_mae': array([2.49514563, 2.38834951, 2.47058824,        nan, 2.29411765]),\n",
       " 'fit_time': (0.05521059036254883,\n",
       "  0.020775556564331055,\n",
       "  0.015633106231689453,\n",
       "  0.03123188018798828,\n",
       "  0.015621185302734375),\n",
       " 'test_time': (0.0009992122650146484, 0.0, 0.0, 0.0, 0.0)}"
      ]
     },
     "execution_count": 33,
     "metadata": {},
     "output_type": "execute_result"
    }
   ],
   "source": [
    "from surprise import Reader, SVD\n",
    "from surprise import Dataset\n",
    "from surprise.model_selection import cross_validate\n",
    "\n",
    "# Use the famous SVD algorithm\n",
    "reader = Reader()\n",
    "data_eval = Dataset.load_from_df(ratings[['User_ID', 'Food_ID', 'Rating']], reader)\n",
    "algo = SVD()\n",
    "\n",
    "# Run 5-fold cross-validation and then print results\n",
    "cross_validate(algo, data_eval, measures=['RMSE', 'MAE'], cv=5, verbose=True)"
   ]
  },
  {
   "cell_type": "code",
   "execution_count": 34,
   "metadata": {},
   "outputs": [
    {
     "data": {
      "text/plain": [
       "<surprise.prediction_algorithms.matrix_factorization.SVD at 0x229841e7808>"
      ]
     },
     "execution_count": 34,
     "metadata": {},
     "output_type": "execute_result"
    }
   ],
   "source": [
    "trainset = data_eval.build_full_trainset()\n",
    "algo.fit(trainset)"
   ]
  },
  {
   "cell_type": "code",
   "execution_count": 35,
   "metadata": {},
   "outputs": [
    {
     "data": {
      "text/plain": [
       "Prediction(uid=1, iid=244, r_ui=3, est=5, details={'was_impossible': False})"
      ]
     },
     "execution_count": 35,
     "metadata": {},
     "output_type": "execute_result"
    }
   ],
   "source": [
    "algo.predict(1, 244, 3)"
   ]
  }
 ],
 "metadata": {
  "kernelspec": {
   "display_name": "Python 3",
   "language": "python",
   "name": "python3"
  },
  "language_info": {
   "codemirror_mode": {
    "name": "ipython",
    "version": 3
   },
   "file_extension": ".py",
   "mimetype": "text/x-python",
   "name": "python",
   "nbconvert_exporter": "python",
   "pygments_lexer": "ipython3",
   "version": "3.7.6"
  }
 },
 "nbformat": 4,
 "nbformat_minor": 4
}
